{
  "nbformat": 4,
  "nbformat_minor": 0,
  "metadata": {
    "colab": {
      "name": "gini-idh.ipynb",
      "version": "0.3.2",
      "provenance": [],
      "include_colab_link": true
    },
    "kernelspec": {
      "name": "python3",
      "display_name": "Python 3"
    }
  },
  "cells": [
    {
      "cell_type": "markdown",
      "metadata": {
        "id": "view-in-github",
        "colab_type": "text"
      },
      "source": [
        "<a href=\"https://colab.research.google.com/github/arcursino/FATEC/blob/master/gini_idh.ipynb\" target=\"_parent\"><img src=\"https://colab.research.google.com/assets/colab-badge.svg\" alt=\"Open In Colab\"/></a>"
      ]
    },
    {
      "metadata": {
        "id": "pSDcegw71YTg",
        "colab_type": "code",
        "outputId": "f164083e-4bcc-49c5-e5d9-7364c5ee3e31",
        "colab": {
          "base_uri": "https://localhost:8080/",
          "height": 34
        }
      },
      "cell_type": "code",
      "source": [
        "from google.colab import files\n",
        "#files.upload()\n",
        "\n",
        "from google.colab import auth, drive\n",
        "drive.mount('/content/gdrive')"
      ],
      "execution_count": 0,
      "outputs": [
        {
          "output_type": "stream",
          "text": [
            "Drive already mounted at /content/gdrive; to attempt to forcibly remount, call drive.mount(\"/content/gdrive\", force_remount=True).\n"
          ],
          "name": "stdout"
        }
      ]
    },
    {
      "metadata": {
        "id": "cpZ57eGF1oJy",
        "colab_type": "code",
        "colab": {}
      },
      "cell_type": "code",
      "source": [
        "import pandas as pd "
      ],
      "execution_count": 0,
      "outputs": []
    },
    {
      "metadata": {
        "id": "EAo6sggz1uTv",
        "colab_type": "code",
        "colab": {}
      },
      "cell_type": "code",
      "source": [
        "df = pd.read_csv('/content/gdrive/My Drive/gini/gini-idh.csv')"
      ],
      "execution_count": 0,
      "outputs": []
    },
    {
      "metadata": {
        "id": "0pbgpZ2f5XKj",
        "colab_type": "code",
        "outputId": "dd9cda82-a061-4e5b-d797-042a23cfda18",
        "colab": {
          "base_uri": "https://localhost:8080/",
          "height": 34
        }
      },
      "cell_type": "code",
      "source": [
        "df.shape"
      ],
      "execution_count": 0,
      "outputs": [
        {
          "output_type": "execute_result",
          "data": {
            "text/plain": [
              "(16695, 7)"
            ]
          },
          "metadata": {
            "tags": []
          },
          "execution_count": 56
        }
      ]
    },
    {
      "metadata": {
        "id": "kODz5FB_fXuA",
        "colab_type": "text"
      },
      "cell_type": "markdown",
      "source": [
        ""
      ]
    },
    {
      "metadata": {
        "id": "Q6vKFen95o1c",
        "colab_type": "code",
        "colab": {}
      },
      "cell_type": "code",
      "source": [
        "df.describe()"
      ],
      "execution_count": 0,
      "outputs": []
    },
    {
      "metadata": {
        "id": "MGTmtuXs5rZG",
        "colab_type": "code",
        "outputId": "6d5b2d70-23fd-4e43-f132-17b834b4b572",
        "colab": {
          "base_uri": "https://localhost:8080/",
          "height": 221
        }
      },
      "cell_type": "code",
      "source": [
        "df.info()"
      ],
      "execution_count": 0,
      "outputs": [
        {
          "output_type": "stream",
          "text": [
            "<class 'pandas.core.frame.DataFrame'>\n",
            "RangeIndex: 16695 entries, 0 to 16694\n",
            "Data columns (total 7 columns):\n",
            "ANO          16695 non-null int64\n",
            "Município    16695 non-null object\n",
            "GINI         16695 non-null object\n",
            "PIND         16695 non-null object\n",
            "RIND         16695 non-null object\n",
            "THEIL        16695 non-null object\n",
            "IDHM         16695 non-null object\n",
            "dtypes: int64(1), object(6)\n",
            "memory usage: 913.1+ KB\n"
          ],
          "name": "stdout"
        }
      ]
    },
    {
      "metadata": {
        "id": "6CRsHskRCQD4",
        "colab_type": "code",
        "outputId": "9305965b-e860-476c-abf8-0b5f0cc1ba1c",
        "colab": {
          "base_uri": "https://localhost:8080/",
          "height": 153
        }
      },
      "cell_type": "code",
      "source": [
        "df.isnull().sum()"
      ],
      "execution_count": 0,
      "outputs": [
        {
          "output_type": "execute_result",
          "data": {
            "text/plain": [
              "ANO          0\n",
              "Município    0\n",
              "GINI         0\n",
              "PIND         0\n",
              "RIND         0\n",
              "THEIL        0\n",
              "IDHM         0\n",
              "dtype: int64"
            ]
          },
          "metadata": {
            "tags": []
          },
          "execution_count": 59
        }
      ]
    },
    {
      "metadata": {
        "id": "rJR_gi8SYHZ-",
        "colab_type": "code",
        "outputId": "56a262ff-e639-48a5-edb1-3c0020a53a4f",
        "colab": {
          "base_uri": "https://localhost:8080/",
          "height": 34
        }
      },
      "cell_type": "code",
      "source": [
        "df.columns"
      ],
      "execution_count": 0,
      "outputs": [
        {
          "output_type": "execute_result",
          "data": {
            "text/plain": [
              "Index(['ANO', 'Município', 'GINI', 'PIND', 'RIND', 'THEIL', 'IDHM'], dtype='object')"
            ]
          },
          "metadata": {
            "tags": []
          },
          "execution_count": 61
        }
      ]
    },
    {
      "metadata": {
        "id": "gWmUKz0B4rue",
        "colab_type": "code",
        "outputId": "2c85251c-429a-4b9c-f4c8-c56acc527f0c",
        "colab": {
          "base_uri": "https://localhost:8080/",
          "height": 204
        }
      },
      "cell_type": "code",
      "source": [
        "df.head()"
      ],
      "execution_count": 0,
      "outputs": [
        {
          "output_type": "execute_result",
          "data": {
            "text/html": [
              "<div>\n",
              "<style scoped>\n",
              "    .dataframe tbody tr th:only-of-type {\n",
              "        vertical-align: middle;\n",
              "    }\n",
              "\n",
              "    .dataframe tbody tr th {\n",
              "        vertical-align: top;\n",
              "    }\n",
              "\n",
              "    .dataframe thead th {\n",
              "        text-align: right;\n",
              "    }\n",
              "</style>\n",
              "<table border=\"1\" class=\"dataframe\">\n",
              "  <thead>\n",
              "    <tr style=\"text-align: right;\">\n",
              "      <th></th>\n",
              "      <th>ANO</th>\n",
              "      <th>Município</th>\n",
              "      <th>GINI</th>\n",
              "      <th>PIND</th>\n",
              "      <th>RIND</th>\n",
              "      <th>THEIL</th>\n",
              "      <th>IDHM</th>\n",
              "    </tr>\n",
              "  </thead>\n",
              "  <tbody>\n",
              "    <tr>\n",
              "      <th>0</th>\n",
              "      <td>1991</td>\n",
              "      <td>ALTA FLORESTA D'OESTE</td>\n",
              "      <td>0,63</td>\n",
              "      <td>39,21</td>\n",
              "      <td>36,83</td>\n",
              "      <td>0,73</td>\n",
              "      <td>0,329</td>\n",
              "    </tr>\n",
              "    <tr>\n",
              "      <th>1</th>\n",
              "      <td>1991</td>\n",
              "      <td>ARIQUEMES</td>\n",
              "      <td>0,57</td>\n",
              "      <td>18,9</td>\n",
              "      <td>40,2</td>\n",
              "      <td>0,59</td>\n",
              "      <td>0,432</td>\n",
              "    </tr>\n",
              "    <tr>\n",
              "      <th>2</th>\n",
              "      <td>1991</td>\n",
              "      <td>CABIXI</td>\n",
              "      <td>0,7</td>\n",
              "      <td>60,76</td>\n",
              "      <td>21,11</td>\n",
              "      <td>0,72</td>\n",
              "      <td>0,309</td>\n",
              "    </tr>\n",
              "    <tr>\n",
              "      <th>3</th>\n",
              "      <td>1991</td>\n",
              "      <td>CACOAL</td>\n",
              "      <td>0,66</td>\n",
              "      <td>24,76</td>\n",
              "      <td>34,42</td>\n",
              "      <td>0,79</td>\n",
              "      <td>0,407</td>\n",
              "    </tr>\n",
              "    <tr>\n",
              "      <th>4</th>\n",
              "      <td>1991</td>\n",
              "      <td>CEREJEIRAS</td>\n",
              "      <td>0,6</td>\n",
              "      <td>27,56</td>\n",
              "      <td>38,46</td>\n",
              "      <td>0,64</td>\n",
              "      <td>0,386</td>\n",
              "    </tr>\n",
              "  </tbody>\n",
              "</table>\n",
              "</div>"
            ],
            "text/plain": [
              "    ANO              Município  GINI   PIND   RIND THEIL   IDHM\n",
              "0  1991  ALTA FLORESTA D'OESTE  0,63  39,21  36,83  0,73  0,329\n",
              "1  1991              ARIQUEMES  0,57   18,9   40,2  0,59  0,432\n",
              "2  1991                 CABIXI   0,7  60,76  21,11  0,72  0,309\n",
              "3  1991                 CACOAL  0,66  24,76  34,42  0,79  0,407\n",
              "4  1991             CEREJEIRAS   0,6  27,56  38,46  0,64  0,386"
            ]
          },
          "metadata": {
            "tags": []
          },
          "execution_count": 62
        }
      ]
    },
    {
      "metadata": {
        "id": "pDf2sW0XhVzj",
        "colab_type": "code",
        "colab": {}
      },
      "cell_type": "code",
      "source": [
        "plt.matshow(df.corr())"
      ],
      "execution_count": 0,
      "outputs": []
    },
    {
      "metadata": {
        "id": "SHQC-b69i_90",
        "colab_type": "code",
        "colab": {}
      },
      "cell_type": "code",
      "source": [
        "def plot_corr(df,size=10):\n",
        "    '''Function plots a graphical correlation matrix for each pair of columns in the dataframe.\n",
        "\n",
        "    Input:\n",
        "        df: pandas DataFrame\n",
        "        size: vertical and horizontal size of the plot'''\n",
        "\n",
        "    corr = df.corr()\n",
        "    fig, ax = plt.subplots(figsize=(size, size))\n",
        "    ax.matshow(corr)\n",
        "    plt.xticks(range(len(corr.columns)), corr.columns);\n",
        "    plt.yticks(range(len(corr.columns)), corr.columns);"
      ],
      "execution_count": 0,
      "outputs": []
    },
    {
      "metadata": {
        "id": "GzD12qTyjIPG",
        "colab_type": "code",
        "outputId": "465ce846-a295-456a-f221-3ed8876c6b54",
        "colab": {
          "base_uri": "https://localhost:8080/",
          "height": 364
        }
      },
      "cell_type": "code",
      "source": [
        "import seaborn as sns\n",
        "corr = df.corr()\n",
        "sns.heatmap(corr, \n",
        "            xticklabels=corr.columns.values,\n",
        "            yticklabels=corr.columns.values)"
      ],
      "execution_count": 0,
      "outputs": [
        {
          "output_type": "execute_result",
          "data": {
            "text/plain": [
              "<matplotlib.axes._subplots.AxesSubplot at 0x7f05a5669a90>"
            ]
          },
          "metadata": {
            "tags": []
          },
          "execution_count": 77
        },
        {
          "output_type": "display_data",
          "data": {
            "image/png": "[encoded data removed]",
            "text/plain": [
              "<matplotlib.figure.Figure at 0x7f05ac50bb38>"
            ]
          },
          "metadata": {
            "tags": []
          }
        }
      ]
    },
    {
      "metadata": {
        "id": "a7gFjv_ojV0F",
        "colab_type": "code",
        "outputId": "99c4f418-d54f-4635-99d5-d39b09e1763e",
        "colab": {
          "base_uri": "https://localhost:8080/",
          "height": 566
        }
      },
      "cell_type": "code",
      "source": [
        "pd.scatter_matrix(df, alpha = 0.3, figsize = (14,8), diagonal = 'kde');"
      ],
      "execution_count": 0,
      "outputs": [
        {
          "output_type": "stream",
          "text": [
            "/usr/local/lib/python3.6/dist-packages/ipykernel_launcher.py:1: FutureWarning: pandas.scatter_matrix is deprecated. Use pandas.plotting.scatter_matrix instead\n",
            "  \"\"\"Entry point for launching an IPython kernel.\n"
          ],
          "name": "stderr"
        },
        {
          "output_type": "display_data",
          "data": {
            "image/png": "[encoded data removed]",
            "text/plain": [
              "<matplotlib.figure.Figure at 0x7f05a4b9e710>"
            ]
          },
          "metadata": {
            "tags": []
          }
        }
      ]
    },
    {
      "metadata": {
        "id": "MoF82-hGkxxw",
        "colab_type": "code",
        "outputId": "327f261b-6239-4a9e-d5a3-1dcdca4340e2",
        "colab": {
          "base_uri": "https://localhost:8080/",
          "height": 202
        }
      },
      "cell_type": "code",
      "source": [
        "sns.pairplot(df)"
      ],
      "execution_count": 0,
      "outputs": [
        {
          "output_type": "execute_result",
          "data": {
            "text/plain": [
              "<seaborn.axisgrid.PairGrid at 0x7f05a3dc3e10>"
            ]
          },
          "metadata": {
            "tags": []
          },
          "execution_count": 81
        },
        {
          "output_type": "display_data",
          "data": {
            "image/png": "[encoded data removed]",
            "text/plain": [
              "<matplotlib.figure.Figure at 0x7f05a3de0550>"
            ]
          },
          "metadata": {
            "tags": []
          }
        }
      ]
    },
    {
      "metadata": {
        "id": "hXmAXrI4Gm27",
        "colab_type": "code",
        "colab": {}
      },
      "cell_type": "code",
      "source": [
        "import matplotlib.pyplot as plt\n",
        "import matplotlib.patches as mpatches"
      ],
      "execution_count": 0,
      "outputs": []
    }
  ]
}